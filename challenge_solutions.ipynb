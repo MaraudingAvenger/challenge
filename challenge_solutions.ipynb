{
 "cells": [
  {
   "cell_type": "markdown",
   "metadata": {},
   "source": [
    "# Question 1\n",
    "## Filtering Elements\n",
    "\n",
    "The file `periodic_table.csv` contains very detailed data about the elements of the Periodic Table.\n",
    "\n",
    "Using Python, find the element that is among the transition metals discovered in the 1800's, with a boiling point below 5000 degrees, which has the highest density!\n",
    "\n",
    "(Sounds like a job for `pandas`!)\n",
    "\n",
    "## Hint:\n",
    "You should use the `pandas.read_csv` function to access the data as a DataFrame. Once there, you will need to play close attention to the column names in the file.\n",
    "\n",
    "The rest of the task is to apply filters to various columns until the answer becomes clear."
   ]
  },
  {
   "cell_type": "code",
   "execution_count": 1,
   "metadata": {},
   "outputs": [
    {
     "data": {
      "text/plain": [
       "atomicNumber                                      42\n",
       " symbol                                          Mo \n",
       " name                                     Molybdenum\n",
       " atomicMass                                 95.96(2)\n",
       " cpkHexColor                                  54B5B5\n",
       " electronicConfiguration               [Kr] 4d5 5s1 \n",
       " electronegativity                              2.16\n",
       " atomicRadius                                    145\n",
       " ionRadius                                   69 (+3)\n",
       " vanDelWaalsRadius                               NaN\n",
       " ionizationEnergy                                684\n",
       " electronAffinity                                -72\n",
       " oxidationStates            -2, -1, 1, 2, 3, 4, 5, 6\n",
       " standardState                                 solid\n",
       " bondingType                                metallic\n",
       " meltingPoint                                   2896\n",
       " boilingPoint                                   4912\n",
       "density                                        10.28\n",
       " groupBlock                         transition metal\n",
       " yearDiscovered                                 1778\n",
       "Name: 41, dtype: object"
      ]
     },
     "execution_count": 1,
     "metadata": {},
     "output_type": "execute_result"
    }
   ],
   "source": [
    "import pandas as pd\n",
    "\n",
    "df = pd.read_csv('periodic_table.csv')\n",
    "df = df.loc[(df[' groupBlock'] == 'transition metal') & (df[' yearDiscovered'] < '1800') & (df[' boilingPoint'] < 5000)]\n",
    "df.sort_values(by=['density'], inplace=True, ascending=False)\n",
    "df.iloc[0]"
   ]
  },
  {
   "cell_type": "markdown",
   "metadata": {},
   "source": [
    "# Question 2\n",
    "## Math Regression\n",
    "\n",
    "The file `regressive_math_scores.csv` contains grade information about anonymous students' calculus scores for Calculus I and Calculus II. Use the `scikit-learn` library to perform a linear regression using the ordinary least squares method. According to the regression, what is the predicted Calculus II score for a student who scored a 97% in Calculus I?\n",
    "\n",
    "\n",
    "## Hint:\n",
    "Look into the sklearn module's LinearRegression class."
   ]
  },
  {
   "cell_type": "code",
   "execution_count": 2,
   "metadata": {},
   "outputs": [
    {
     "name": "stdout",
     "output_type": "stream",
     "text": [
      "[[88.82651686]]\n"
     ]
    }
   ],
   "source": [
    "from sklearn import linear_model\n",
    "import pandas as pd\n",
    "import numpy as np\n",
    "\n",
    "'''data = []\n",
    "for x in range(100):\n",
    "    d = random.randint(30, 100)\n",
    "    data.append({'c1':d, 'c2':d-10})'''\n",
    "\n",
    "df = pd.read_csv('regressive_math_scores.csv', index_col=0)\n",
    "\n",
    "x = np.array(df['Calc 1 Score'].values).reshape(-1, 1)\n",
    "y = np.array(df['Calc 2 Score'].values).reshape(-1, 1)\n",
    "\n",
    "reg = linear_model.LinearRegression()\n",
    "reg.fit(x, y)\n",
    "print(reg.predict([[97]]))"
   ]
  }
 ],
 "metadata": {
  "kernelspec": {
   "display_name": "Python 3",
   "language": "python",
   "name": "python3"
  },
  "language_info": {
   "codemirror_mode": {
    "name": "ipython",
    "version": 3
   },
   "file_extension": ".py",
   "mimetype": "text/x-python",
   "name": "python",
   "nbconvert_exporter": "python",
   "pygments_lexer": "ipython3",
   "version": "3.6.6"
  }
 },
 "nbformat": 4,
 "nbformat_minor": 2
}
